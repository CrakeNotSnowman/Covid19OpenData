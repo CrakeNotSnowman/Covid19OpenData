{
 "cells": [
  {
   "cell_type": "markdown",
   "metadata": {},
   "source": [
    "# Exploring simple analysis of Covid-19 DNA\n",
    "Written on March 6th 2020\n",
    "\n",
    "## Loading DNA from fasta files\n",
    "\n",
    "\n",
    "\n",
    "### Requirements\n",
    "[biopython](https://biopython.org/)\n",
    "\n",
    "\n",
    "### Steps to get the data\n",
    "Follow [the Link](https://www.ncbi.nlm.nih.gov/labs/virus/vssi/#/virus?SeqType_s=Nucleotide&VirusLineage_ss=Wuhan%20seafood%20market%20pneumonia%20virus,%20taxid:2697049) provided in the readme under 'NCBI Data Hub'.\n",
    "\n",
    "Download the data by clicking the download button, and selecting the following prompts:\n",
    "\n",
    "Step 1 of 3: Select Data Type: Sequence data\n",
    "(FASTA Format):\n",
    "[Nucleotide] \n",
    "\n",
    "Next\n",
    "\n",
    "Step 2 of 3: Select Records: [Download All Records]\n",
    "\n",
    "Next \n",
    "\n",
    "Step 3 of 3: Select FASTA definition line:\n",
    "[Use Default]\n",
    "\n",
    "Download and move the file into the `data` directory in this directory. \n",
    "\n"
   ]
  },
  {
   "cell_type": "code",
   "execution_count": 22,
   "metadata": {},
   "outputs": [],
   "source": [
    "# Imports\n",
    "import numpy as np\n",
    "from scipy.sparse import csr_matrix\n",
    "# Bioinformatics imports\n",
    "from Bio import SeqIO"
   ]
  },
  {
   "cell_type": "code",
   "execution_count": 2,
   "metadata": {},
   "outputs": [],
   "source": [
    "sequence_paths = 'data/sequences.fasta'"
   ]
  },
  {
   "cell_type": "code",
   "execution_count": 6,
   "metadata": {
    "scrolled": false
   },
   "outputs": [
    {
     "name": "stdout",
     "output_type": "stream",
     "text": [
      "NC_045512\n",
      "ATTAAAGGTTTATACCTTCC\n",
      "29903\n",
      "ID: NC_045512\n",
      "Name: NC_045512\n",
      "Description: NC_045512 |Severe acute respiratory syndrome coronavirus 2 isolate Wuhan-Hu-1| complete genome\n",
      "Number of features: 0\n",
      "Seq('ATTAAAGGTTTATACCTTCCCAGGTAACAAACCAACCAACTTTCGATCTCTTGT...AAA', SingleLetterAlphabet())\n",
      "**********\n",
      "MT192758\n",
      "CCGCAATCCTGCTAACAATG\n",
      "440\n",
      "ID: MT192758\n",
      "Name: MT192758\n",
      "Description: MT192758 |Severe acute respiratory syndrome coronavirus 2 isolate SARS-CoV-2/MBS-Cagliari-2/human/2020/ITA nucleocapsid phosphoprotein (N) gene| partial cds\n",
      "Number of features: 0\n",
      "Seq('CCGCAATCCTGCTAACAATGCTGCAATCGTGCTACAACTTCCTCAAGGAACAAC...AAG', SingleLetterAlphabet())\n",
      "**********\n",
      "MT192772\n",
      "ATTAAAGGTTTATACCTTCC\n",
      "29891\n",
      "ID: MT192772\n",
      "Name: MT192772\n",
      "Description: MT192772 |Severe acute respiratory syndrome coronavirus 2 isolate SARS-CoV-2/nCoV-19-01S/human/2020/VNM| complete genome\n",
      "Number of features: 0\n",
      "Seq('ATTAAAGGTTTATACCTTCCCAGGTAACAAACCAACCAACTTTCGATCTCTTGT...AAA', SingleLetterAlphabet())\n",
      "**********\n"
     ]
    }
   ],
   "source": [
    "records = list(SeqIO.parse(sequence_paths, \"fasta\"))\n",
    "i = 0\n",
    "for rec in records:\n",
    "    print(rec.id)\n",
    "    print(rec.seq[:20])\n",
    "    print(len(rec))\n",
    "    print(rec)\n",
    "    print('*'*10)\n",
    "    i += 1\n",
    "    if i >= 3:\n",
    "        break"
   ]
  },
  {
   "cell_type": "code",
   "execution_count": null,
   "metadata": {},
   "outputs": [],
   "source": [
    "'''\n",
    "A simple distance metric from which to build a tree\n",
    "\n",
    "A multiple sequence alignment is a better approach, however\n",
    "lets just build out the code we need to generate a tree\n",
    "\n",
    "\n",
    "Remap \n",
    "[AAAA] -> [0000]\n",
    "[AAAC] -> [0001]\n",
    "        .\n",
    "        .\n",
    "        .\n",
    "[TTTC] -> [4443]\n",
    "[TTTT] -> [4444]\n",
    "From there, convert from base4 to dec\n",
    "\n",
    "'''\n",
    "def character_replace(s):\n",
    "    '''\n",
    "    Remap characters in sequence the numeral strings\n",
    "    \n",
    "    '''\n",
    "    d={'A':'0','C':'1', 'G':'2', 'T':'3'}\n",
    "    return ''.join([d[x] for x in s if x in d])\n",
    "def build_kmer(s, k):\n",
    "    k_d = {} # Kmer Dictionary\n",
    "    for i in range(len(s)-k):\n",
    "        if s[i:i+k] in k_d:\n",
    "            s[i:i+k] += 1\n",
    "        else:\n",
    "            s[i:i+k] = 1\n",
    "    # Return kmer as a sparse matrix (vector)\n",
    "    v = [[0,0,0,0,0,30,0,0,0],[0,0,0,0,7,0,0,0,0]]\n",
    "    \n",
    "    \n",
    "    return k_d\n"
   ]
  },
  {
   "cell_type": "code",
   "execution_count": 14,
   "metadata": {},
   "outputs": [
    {
     "ename": "ValueError",
     "evalue": "invalid literal for int() with base 4: 'AA'",
     "output_type": "error",
     "traceback": [
      "\u001b[0;31m---------------------------------------------------------------------------\u001b[0m",
      "\u001b[0;31mValueError\u001b[0m                                Traceback (most recent call last)",
      "\u001b[0;32m<ipython-input-14-d596c35bf9a1>\u001b[0m in \u001b[0;36m<module>\u001b[0;34m\u001b[0m\n\u001b[0;32m----> 1\u001b[0;31m \u001b[0mint\u001b[0m\u001b[0;34m(\u001b[0m\u001b[0;34m'AA'\u001b[0m\u001b[0;34m,\u001b[0m \u001b[0mbase\u001b[0m\u001b[0;34m=\u001b[0m\u001b[0;36m4\u001b[0m\u001b[0;34m)\u001b[0m\u001b[0;34m\u001b[0m\u001b[0;34m\u001b[0m\u001b[0m\n\u001b[0m",
      "\u001b[0;31mValueError\u001b[0m: invalid literal for int() with base 4: 'AA'"
     ]
    }
   ],
   "source": [
    "int('11', base=4)"
   ]
  },
  {
   "cell_type": "code",
   "execution_count": 19,
   "metadata": {},
   "outputs": [
    {
     "data": {
      "text/plain": [
       "5"
      ]
     },
     "execution_count": 19,
     "metadata": {},
     "output_type": "execute_result"
    }
   ],
   "source": []
  },
  {
   "cell_type": "code",
   "execution_count": 20,
   "metadata": {},
   "outputs": [
    {
     "name": "stdout",
     "output_type": "stream",
     "text": [
      "  (0, 5)\t30\n",
      "  (1, 4)\t7\n"
     ]
    }
   ],
   "source": [
    "\n",
    "v = [[0,0,0,0,0,30,0,0,0],[0,0,0,0,7,0,0,0,0]]\n",
    "\n",
    "print(csr_matrix(v))"
   ]
  },
  {
   "cell_type": "code",
   "execution_count": null,
   "metadata": {},
   "outputs": [],
   "source": []
  }
 ],
 "metadata": {
  "kernelspec": {
   "display_name": "Python 3",
   "language": "python",
   "name": "python3"
  },
  "language_info": {
   "codemirror_mode": {
    "name": "ipython",
    "version": 3
   },
   "file_extension": ".py",
   "mimetype": "text/x-python",
   "name": "python",
   "nbconvert_exporter": "python",
   "pygments_lexer": "ipython3",
   "version": "3.7.3"
  }
 },
 "nbformat": 4,
 "nbformat_minor": 2
}
